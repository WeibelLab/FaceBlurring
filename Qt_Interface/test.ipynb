{
 "metadata": {
  "language_info": {
   "codemirror_mode": {
    "name": "ipython",
    "version": 3
   },
   "file_extension": ".py",
   "mimetype": "text/x-python",
   "name": "python",
   "nbconvert_exporter": "python",
   "pygments_lexer": "ipython3",
   "version": "3.9.2-final"
  },
  "orig_nbformat": 2,
  "kernelspec": {
   "name": "python3",
   "display_name": "Python 3.9.2 64-bit ('venv')",
   "metadata": {
    "interpreter": {
     "hash": "c75a454c5ea4446e2e4bc82187c5f3286fd9cd684b67e019b9100b2958cbeb2b"
    }
   }
  }
 },
 "nbformat": 4,
 "nbformat_minor": 2,
 "cells": [
  {
   "cell_type": "code",
   "execution_count": 1,
   "metadata": {},
   "outputs": [],
   "source": [
    "from PyQt5.QtGui import QPalette\n",
    "import cv2, numpy, atexit\n",
    "from PyQt5.QtCore import pyqtSignal, Qt\n",
    "from PyQt5.QtWidgets import *"
   ]
  },
  {
   "cell_type": "code",
   "execution_count": 2,
   "metadata": {},
   "outputs": [],
   "source": [
    "app = QApplication([])\n",
    "window = QWidget()\n",
    "window.setLayout(QVBoxLayout())\n",
    "window.capture_the_flag = \"Capture me\"\n",
    "\n",
    "scrollAreaWidget = QWidget()\n",
    "scrollAreaWidget.setLayout(QVBoxLayout())\n",
    "window.layout().addWidget(scrollAreaWidget)\n",
    "\n",
    "scrollAreaWidget.setSizePolicy(QSizePolicy.MinimumExpanding, QSizePolicy.MinimumExpanding)"
   ]
  },
  {
   "cell_type": "code",
   "execution_count": 4,
   "metadata": {},
   "outputs": [],
   "source": [
    "for i in range(100):\n",
    "    lab = QLabel()\n",
    "    lab.setText(\"Hello World how are you doing today?\")\n",
    "    scrollAreaWidget.layout().addWidget(lab)"
   ]
  },
  {
   "cell_type": "code",
   "execution_count": 15,
   "metadata": {},
   "outputs": [
    {
     "output_type": "stream",
     "name": "stdout",
     "text": [
      "False\nTrue\n"
     ]
    }
   ],
   "source": [
    "lab.window().children()\n",
    "for child in lab.window().children():\n",
    "    print(isinstance(child, QWidget))"
   ]
  },
  {
   "cell_type": "code",
   "execution_count": null,
   "metadata": {},
   "outputs": [],
   "source": [
    "\n",
    "window.show()\n",
    "app.exec_()"
   ]
  }
 ]
}